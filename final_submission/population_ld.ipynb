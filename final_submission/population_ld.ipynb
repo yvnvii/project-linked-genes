{
 "cells": [
  {
   "cell_type": "code",
   "execution_count": 17,
   "id": "6b93fdc7-7bfa-4300-9caf-5e203e70f898",
   "metadata": {},
   "outputs": [],
   "source": [
    "import requests\n",
    "import json\n",
    "import emoji\n",
    "import re\n",
    "import html  # <-- to decode HTML entities\n",
    "ENSEMBL_API = \"https://rest.ensembl.org\""
   ]
  },
  {
   "cell_type": "code",
   "execution_count": 28,
   "id": "946b23fe-1947-49e4-bc4b-ae9208c2d31f",
   "metadata": {},
   "outputs": [],
   "source": [
    "import time\n",
    "\n",
    "def get_variant_phenotype(variant_id, retries=3):\n",
    "    url = f\"https://rest.ensembl.org/variation/homo_sapiens/{variant_id}?phenotypes=1\"\n",
    "    headers = {\"Content-Type\": \"application/json\"}\n",
    "\n",
    "    for attempt in range(retries):\n",
    "        try:\n",
    "            response = requests.get(url, headers=headers, timeout=10)\n",
    "            response.raise_for_status()\n",
    "            return response.json()\n",
    "        except requests.exceptions.RequestException as e:\n",
    "            print(f\"⚠️ Error on {variant_id} (attempt {attempt+1}): {e}\")\n",
    "            time.sleep(1)  # wait a bit before retry\n",
    "\n",
    "    print(f\"❌ Failed to fetch phenotype for {variant_id} after {retries} tries.\")\n",
    "    return {}\n"
   ]
  },
  {
   "cell_type": "code",
   "execution_count": 29,
   "id": "9d6680f7-f3ec-4bde-b749-84319169f49f",
   "metadata": {},
   "outputs": [],
   "source": [
    "def extract_traits_from_variant(json_data):\n",
    "    traits = []\n",
    "\n",
    "    if not json_data or \"phenotypes\" not in json_data:\n",
    "        return traits\n",
    "\n",
    "    for item in json_data[\"phenotypes\"]:\n",
    "        try:\n",
    "            trait = item.get(\"trait\", \"N/A\")\n",
    "            traits.append(trait)\n",
    "        except:\n",
    "            continue\n",
    "\n",
    "    return traits\n"
   ]
  },
  {
   "cell_type": "code",
   "execution_count": 30,
   "id": "87a3fd38-a5d5-4a14-9d63-8a22e2c51794",
   "metadata": {},
   "outputs": [],
   "source": [
    "def get_genes(phenotype_term, species):\n",
    "    phenotype = phenotype_term\n",
    "    species = species\n",
    "\n",
    "    url = f\"{ENSEMBL_API}/phenotype/term/{species}/{phenotype_term}?content-type=application/json\"\n",
    "    response = requests.get(url)\n",
    "    if response.status_code == 200:\n",
    "      data = response.json()\n",
    "      genes = [entry[\"Gene\"] for entry in data if \"Gene\" in entry]\n",
    "      genes = genes + [entry[\"Variation\"] for entry in data if \"Variation\" in entry]\n",
    "      return genes\n",
    "    else:\n",
    "      print(emoji.emojize(\":warning: \"),f\"Error fetching genes for {phenotype_term}: {response.status_code}\")\n",
    "      return []"
   ]
  },
  {
   "cell_type": "code",
   "execution_count": 31,
   "id": "6c8a5ebe-e777-4767-9c18-07686be0f236",
   "metadata": {},
   "outputs": [],
   "source": [
    "def get_ld_variants(species, variant_id, population):\n",
    "    \"\"\"\n",
    "    Fetch LD variants and return structured JSON:\n",
    "    {\n",
    "        \"variant1\": [\n",
    "            {\"variant2\": ..., \"d_prime\": ..., \"r2\": ...},\n",
    "            ...\n",
    "        ]\n",
    "    }\n",
    "    \"\"\"\n",
    "    url = f\"https://rest.ensembl.org/ld/{species}/{variant_id}/{population}?d_prime=1.0;r2=0.85\"\n",
    "    headers = {\"Content-Type\": \"application/json\"}\n",
    "\n",
    "    try:\n",
    "        response = requests.get(url, headers=headers, timeout=10)\n",
    "        response.raise_for_status()\n",
    "        data = response.json()\n",
    "\n",
    "        results = []\n",
    "        for entry in data:\n",
    "            results.append({\n",
    "                \"variant2\": entry.get(\"variation2\"),\n",
    "                \"d_prime\": float(entry.get(\"d_prime\", 0)),\n",
    "                \"r2\": float(entry.get(\"r2\", 0))\n",
    "            })\n",
    "\n",
    "        return {variant_id: results}\n",
    "\n",
    "    except requests.exceptions.HTTPError as e:\n",
    "        print(f\"⚠️ HTTP error for {variant_id}: {e}\")\n",
    "    except requests.exceptions.RequestException as e:\n",
    "        print(f\"⚠️ Request error for {variant_id}: {e}\")\n",
    "    except ValueError:\n",
    "        print(f\"⚠️ Could not parse JSON for {variant_id}\")\n",
    "    return {variant_id: []}\n"
   ]
  },
  {
   "cell_type": "code",
   "execution_count": 32,
   "id": "81a10f3b-5c57-4a45-8df0-592bc95e768b",
   "metadata": {},
   "outputs": [],
   "source": [
    "variant_list = get_genes(\"huntington's_disease\", \"homo_sapiens\")"
   ]
  },
  {
   "cell_type": "code",
   "execution_count": 33,
   "id": "fcc5eb96-d7ae-471c-bef7-88054610714e",
   "metadata": {},
   "outputs": [
    {
     "data": {
      "text/plain": [
       "['LRG_763',\n",
       " 'ENSG00000197386',\n",
       " 'ENSG00000059804',\n",
       " 'ENSG00000197386',\n",
       " 'rs12668183',\n",
       " 'rs780493120',\n",
       " 'rs79029191',\n",
       " 'rs114643193',\n",
       " 'rs28406206',\n",
       " 'rs1712396191',\n",
       " 'rs1232027',\n",
       " 'rs71180116',\n",
       " 'rs72715653',\n",
       " 'rs8031584',\n",
       " 'rs150393409',\n",
       " 'rs78621558',\n",
       " 'rs4736525',\n",
       " 'rs1721646894',\n",
       " 'rs114688092',\n",
       " 'rs73786719',\n",
       " 'rs6882169',\n",
       " 'rs150393409',\n",
       " 'rs1560534953',\n",
       " 'rs932428',\n",
       " 'rs116220136',\n",
       " 'rs8031584',\n",
       " 'rs116293982',\n",
       " 'rs3013648',\n",
       " 'rs4720024',\n",
       " 'rs71180116',\n",
       " 'rs11197481',\n",
       " 'rs79218467',\n",
       " 'rs117440785',\n",
       " 'rs3889139',\n",
       " 'rs80260687',\n",
       " 'rs117933444']"
      ]
     },
     "execution_count": 33,
     "metadata": {},
     "output_type": "execute_result"
    }
   ],
   "source": [
    "variant_list"
   ]
  },
  {
   "cell_type": "code",
   "execution_count": 34,
   "id": "55a97ce7-a016-42e3-9c8b-ad1b683b4c58",
   "metadata": {},
   "outputs": [
    {
     "name": "stdout",
     "output_type": "stream",
     "text": [
      "⚠️ HTTP error for LRG_763: 400 Client Error: Bad Request for url: https://rest.ensembl.org/ld/homo_sapiens/LRG_763/1000GENOMES:phase_3:KHV?d_prime=1.0;r2=0.85\n",
      "⚠️ HTTP error for ENSG00000197386: 400 Client Error: Bad Request for url: https://rest.ensembl.org/ld/homo_sapiens/ENSG00000197386/1000GENOMES:phase_3:KHV?d_prime=1.0;r2=0.85\n",
      "⚠️ HTTP error for ENSG00000059804: 400 Client Error: Bad Request for url: https://rest.ensembl.org/ld/homo_sapiens/ENSG00000059804/1000GENOMES:phase_3:KHV?d_prime=1.0;r2=0.85\n",
      "⚠️ HTTP error for ENSG00000197386: 400 Client Error: Bad Request for url: https://rest.ensembl.org/ld/homo_sapiens/ENSG00000197386/1000GENOMES:phase_3:KHV?d_prime=1.0;r2=0.85\n",
      "⚠️ HTTP error for rs79218467: 502 Server Error: Bad Gateway for url: https://rest.ensembl.org/ld/homo_sapiens/rs79218467/1000GENOMES:phase_3:KHV?d_prime=1.0;r2=0.85\n",
      "⚠️ HTTP error for rs117440785: 502 Server Error: Bad Gateway for url: https://rest.ensembl.org/ld/homo_sapiens/rs117440785/1000GENOMES:phase_3:KHV?d_prime=1.0;r2=0.85\n",
      "⚠️ HTTP error for rs3889139: 502 Server Error: Bad Gateway for url: https://rest.ensembl.org/ld/homo_sapiens/rs3889139/1000GENOMES:phase_3:KHV?d_prime=1.0;r2=0.85\n"
     ]
    }
   ],
   "source": [
    "ld_storage = {}\n",
    "\n",
    "for variant_id in variant_list:  # don't use `list` as a variable name!\n",
    "    result = get_ld_variants(\"homo_sapiens\", variant_id, \"1000GENOMES:phase_3:KHV\")\n",
    "    if result and result.get(variant_id):\n",
    "        ld_storage[variant_id] = result[variant_id]\n"
   ]
  },
  {
   "cell_type": "code",
   "execution_count": 35,
   "id": "d1fb4e94-a72f-4530-a57f-718cb6f8e071",
   "metadata": {},
   "outputs": [
    {
     "data": {
      "text/plain": [
       "dict_items([('rs12668183', [{'variant2': 'rs12699801', 'd_prime': 1.0, 'r2': 0.958916}, {'variant2': 'rs11766828', 'd_prime': 1.0, 'r2': 0.979114}, {'variant2': 'rs10085439', 'd_prime': 1.0, 'r2': 1.0}, {'variant2': 'rs10085777', 'd_prime': 1.0, 'r2': 1.0}, {'variant2': 'rs10499469', 'd_prime': 1.0, 'r2': 1.0}, {'variant2': 'rs10085489', 'd_prime': 1.0, 'r2': 1.0}, {'variant2': 'rs9791820', 'd_prime': 1.0, 'r2': 1.0}, {'variant2': 'rs2141804', 'd_prime': 1.0, 'r2': 1.0}, {'variant2': 'rs7798302', 'd_prime': 1.0, 'r2': 0.979114}, {'variant2': 'rs12699796', 'd_prime': 1.0, 'r2': 1.0}]), ('rs1232027', [{'variant2': 'rs1222809', 'd_prime': 1.0, 'r2': 1.0}, {'variant2': 'rs59724253', 'd_prime': 1.0, 'r2': 1.0}, {'variant2': 'rs34931264', 'd_prime': 1.0, 'r2': 1.0}, {'variant2': 'rs1643635', 'd_prime': 1.0, 'r2': 1.0}, {'variant2': 'rs113903049', 'd_prime': 1.0, 'r2': 1.0}, {'variant2': 'rs73765837', 'd_prime': 1.0, 'r2': 1.0}, {'variant2': 'rs112325102', 'd_prime': 1.0, 'r2': 1.0}, {'variant2': 'rs11951910', 'd_prime': 1.0, 'r2': 1.0}, {'variant2': 'rs35124495', 'd_prime': 1.0, 'r2': 1.0}, {'variant2': 'rs73125358', 'd_prime': 1.0, 'r2': 1.0}, {'variant2': 'rs13185915', 'd_prime': 1.0, 'r2': 1.0}, {'variant2': 'rs60186226', 'd_prime': 1.0, 'r2': 1.0}, {'variant2': 'rs10040918', 'd_prime': 1.0, 'r2': 1.0}, {'variant2': 'rs1019450', 'd_prime': 1.0, 'r2': 1.0}, {'variant2': 'rs111692241', 'd_prime': 1.0, 'r2': 1.0}, {'variant2': 'rs11951283', 'd_prime': 1.0, 'r2': 1.0}, {'variant2': 'rs249212', 'd_prime': 1.0, 'r2': 1.0}, {'variant2': 'rs71603550', 'd_prime': 1.0, 'r2': 1.0}, {'variant2': 'rs139493525', 'd_prime': 1.0, 'r2': 1.0}, {'variant2': 'rs73765836', 'd_prime': 1.0, 'r2': 1.0}, {'variant2': 'rs185784473', 'd_prime': 1.0, 'r2': 1.0}]), ('rs4736525', [{'variant2': 'rs7834499', 'd_prime': 1.0, 'r2': 1.0}, {'variant2': 'rs2270879', 'd_prime': 1.0, 'r2': 0.952857}, {'variant2': 'rs7000712', 'd_prime': 1.0, 'r2': 0.952857}, {'variant2': 'rs12678949', 'd_prime': 1.0, 'r2': 1.0}, {'variant2': 'rs4736526', 'd_prime': 1.0, 'r2': 1.0}, {'variant2': 'rs4736521', 'd_prime': 1.0, 'r2': 1.0}, {'variant2': 'rs12550644', 'd_prime': 1.0, 'r2': 1.0}, {'variant2': 'rs10956624', 'd_prime': 1.0, 'r2': 0.952857}, {'variant2': 'rs28444543', 'd_prime': 1.0, 'r2': 1.0}, {'variant2': 'rs4736530', 'd_prime': 1.0, 'r2': 0.952857}, {'variant2': 'rs6471011', 'd_prime': 1.0, 'r2': 1.0}, {'variant2': 'rs10808594', 'd_prime': 1.0, 'r2': 0.952857}, {'variant2': 'rs4377945', 'd_prime': 1.0, 'r2': 0.952857}, {'variant2': 'rs1051221', 'd_prime': 1.0, 'r2': 0.952857}, {'variant2': 'rs7819745', 'd_prime': 1.0, 'r2': 1.0}, {'variant2': 'rs6471022', 'd_prime': 1.0, 'r2': 0.952857}, {'variant2': 'rs11775288', 'd_prime': 1.0, 'r2': 1.0}, {'variant2': 'rs7829737', 'd_prime': 1.0, 'r2': 0.952857}, {'variant2': 'rs6993606', 'd_prime': 1.0, 'r2': 1.0}, {'variant2': 'rs4644223', 'd_prime': 1.0, 'r2': 1.0}, {'variant2': 'rs7844869', 'd_prime': 1.0, 'r2': 1.0}, {'variant2': 'rs10108409', 'd_prime': 1.0, 'r2': 0.952857}, {'variant2': 'rs4736395', 'd_prime': 1.0, 'r2': 0.952857}, {'variant2': 'rs10755935', 'd_prime': 1.0, 'r2': 0.952857}, {'variant2': 'rs6991651', 'd_prime': 1.0, 'r2': 0.952857}, {'variant2': 'rs28550628', 'd_prime': 1.0, 'r2': 1.0}, {'variant2': 'rs4645545', 'd_prime': 1.0, 'r2': 0.952857}, {'variant2': 'rs4371988', 'd_prime': 1.0, 'r2': 0.952857}, {'variant2': 'rs1501062', 'd_prime': 1.0, 'r2': 0.952857}, {'variant2': 'rs4736522', 'd_prime': 1.0, 'r2': 1.0}, {'variant2': 'rs4496948', 'd_prime': 1.0, 'r2': 0.952857}, {'variant2': 'rs7003648', 'd_prime': 1.0, 'r2': 1.0}, {'variant2': 'rs4736523', 'd_prime': 1.0, 'r2': 1.0}, {'variant2': 'rs2270876', 'd_prime': 1.0, 'r2': 0.952857}, {'variant2': 'rs10956625', 'd_prime': 1.0, 'r2': 0.952857}, {'variant2': 'rs12679575', 'd_prime': 1.0, 'r2': 0.952857}]), ('rs6882169', [{'variant2': 'rs11361504', 'd_prime': 1.0, 'r2': 0.955882}]), ('rs3013648', [{'variant2': 'rs11327168', 'd_prime': 1.0, 'r2': 0.938086}, {'variant2': 'rs3013645', 'd_prime': 1.0, 'r2': 1.0}, {'variant2': 'rs139343804', 'd_prime': 1.0, 'r2': 1.0}, {'variant2': 'rs2949899', 'd_prime': 1.0, 'r2': 0.979021}, {'variant2': 'rs1534177', 'd_prime': 1.0, 'r2': 1.0}, {'variant2': 'rs1534183', 'd_prime': 1.0, 'r2': 1.0}, {'variant2': 'rs2949898', 'd_prime': 1.0, 'r2': 1.0}, {'variant2': 'rs1987321', 'd_prime': 1.0, 'r2': 1.0}]), ('rs117933444', [{'variant2': 'rs3798305', 'd_prime': 1.0, 'r2': 1.0}, {'variant2': 'rs73041491', 'd_prime': 1.0, 'r2': 1.0}, {'variant2': 'rs79554501', 'd_prime': 1.0, 'r2': 1.0}, {'variant2': 'rs2273746', 'd_prime': 1.0, 'r2': 0.932377}, {'variant2': 'rs73789707', 'd_prime': 1.0, 'r2': 1.0}, {'variant2': 'rs147488647', 'd_prime': 1.0, 'r2': 1.0}, {'variant2': 'rs12212326', 'd_prime': 1.0, 'r2': 0.928261}, {'variant2': 'rs146899264', 'd_prime': 1.0, 'r2': 0.928261}, {'variant2': 'rs73041494', 'd_prime': 1.0, 'r2': 0.928261}, {'variant2': 'rs147051119', 'd_prime': 1.0, 'r2': 0.928261}, {'variant2': 'rs141010287', 'd_prime': 1.0, 'r2': 0.928261}, {'variant2': 'rs113174740', 'd_prime': 1.0, 'r2': 1.0}, {'variant2': 'rs73041488', 'd_prime': 1.0, 'r2': 1.0}, {'variant2': 'rs73041500', 'd_prime': 1.0, 'r2': 0.928261}, {'variant2': 'rs9459815', 'd_prime': 1.0, 'r2': 0.928261}, {'variant2': 'rs73026247', 'd_prime': 1.0, 'r2': 0.857297}, {'variant2': 'rs73041490', 'd_prime': 1.0, 'r2': 1.0}, {'variant2': 'rs111430388', 'd_prime': 1.0, 'r2': 0.928261}])])"
      ]
     },
     "execution_count": 35,
     "metadata": {},
     "output_type": "execute_result"
    }
   ],
   "source": [
    "ld_storage.items()"
   ]
  },
  {
   "cell_type": "code",
   "execution_count": 36,
   "id": "1cd52315-8da8-4cab-bb9b-aa950f7d6cd8",
   "metadata": {},
   "outputs": [
    {
     "name": "stdout",
     "output_type": "stream",
     "text": [
      "assessing rs12668183\n",
      "  → checking rs12699801\n",
      "  → checking rs11766828\n",
      "  → checking rs10085439\n",
      "  → checking rs10085777\n",
      "  → checking rs10499469\n",
      "  → checking rs10085489\n",
      "  → checking rs9791820\n",
      "  → checking rs2141804\n",
      "  → checking rs7798302\n",
      "  → checking rs12699796\n",
      "assessing rs1232027\n",
      "  → checking rs1222809\n",
      "  → checking rs59724253\n",
      "  → checking rs34931264\n",
      "  → checking rs1643635\n",
      "  → checking rs113903049\n",
      "  → checking rs73765837\n",
      "  → checking rs112325102\n",
      "  → checking rs11951910\n",
      "  → checking rs35124495\n",
      "  → checking rs73125358\n",
      "  → checking rs13185915\n",
      "  → checking rs60186226\n",
      "  → checking rs10040918\n",
      "  → checking rs1019450\n",
      "  → checking rs111692241\n",
      "  → checking rs11951283\n",
      "  → checking rs249212\n",
      "  → checking rs71603550\n",
      "  → checking rs139493525\n",
      "  → checking rs73765836\n",
      "  → checking rs185784473\n",
      "assessing rs4736525\n",
      "  → checking rs7834499\n",
      "  → checking rs2270879\n",
      "  → checking rs7000712\n",
      "  → checking rs12678949\n",
      "  → checking rs4736526\n",
      "  → checking rs4736521\n",
      "  → checking rs12550644\n",
      "  → checking rs10956624\n",
      "  → checking rs28444543\n",
      "  → checking rs4736530\n",
      "  → checking rs6471011\n",
      "  → checking rs10808594\n",
      "  → checking rs4377945\n",
      "  → checking rs1051221\n",
      "  → checking rs7819745\n",
      "  → checking rs6471022\n",
      "  → checking rs11775288\n",
      "  → checking rs7829737\n",
      "  → checking rs6993606\n",
      "  → checking rs4644223\n",
      "  → checking rs7844869\n",
      "  → checking rs10108409\n",
      "  → checking rs4736395\n",
      "  → checking rs10755935\n",
      "  → checking rs6991651\n",
      "  → checking rs28550628\n",
      "  → checking rs4645545\n",
      "  → checking rs4371988\n",
      "  → checking rs1501062\n",
      "  → checking rs4736522\n",
      "  → checking rs4496948\n",
      "  → checking rs7003648\n",
      "  → checking rs4736523\n",
      "  → checking rs2270876\n",
      "  → checking rs10956625\n",
      "  → checking rs12679575\n",
      "assessing rs6882169\n",
      "  → checking rs11361504\n",
      "assessing rs3013648\n",
      "  → checking rs11327168\n",
      "  → checking rs3013645\n",
      "  → checking rs139343804\n",
      "  → checking rs2949899\n",
      "  → checking rs1534177\n",
      "  → checking rs1534183\n",
      "  → checking rs2949898\n",
      "  → checking rs1987321\n",
      "assessing rs117933444\n",
      "  → checking rs3798305\n",
      "  → checking rs73041491\n",
      "  → checking rs79554501\n",
      "  → checking rs2273746\n",
      "  → checking rs73789707\n",
      "  → checking rs147488647\n",
      "  → checking rs12212326\n",
      "  → checking rs146899264\n",
      "  → checking rs73041494\n",
      "  → checking rs147051119\n",
      "  → checking rs141010287\n",
      "  → checking rs113174740\n",
      "  → checking rs73041488\n",
      "  → checking rs73041500\n",
      "  → checking rs9459815\n",
      "  → checking rs73026247\n",
      "  → checking rs73041490\n",
      "  → checking rs111430388\n",
      "✅ rs117933444 linked to traits: {'Smooth-surface caries'}\n"
     ]
    }
   ],
   "source": [
    "linked_pheno_map = {}\n",
    "\n",
    "for variant1, links in ld_storage.items():\n",
    "    print(f\"assessing {variant1}\")\n",
    "    phenos = set()\n",
    "\n",
    "    if links:\n",
    "        for link in links:\n",
    "            variant2 = link[\"variant2\"]\n",
    "            print(f\"  → checking {variant2}\")\n",
    "            json_data = get_variant_phenotype(variant2)\n",
    "            traits = extract_traits_from_variant(json_data)\n",
    "            phenos.update(traits)\n",
    "\n",
    "    if phenos:\n",
    "        linked_pheno_map[variant1] = list(phenos)\n",
    "        print(f\"✅ {variant1} linked to traits: {phenos}\")"
   ]
  },
  {
   "cell_type": "code",
   "execution_count": 37,
   "id": "e716030b-3a74-4a5d-92f9-8383aeb875f7",
   "metadata": {},
   "outputs": [
    {
     "data": {
      "text/plain": [
       "{'rs117933444': ['Smooth-surface caries']}"
      ]
     },
     "execution_count": 37,
     "metadata": {},
     "output_type": "execute_result"
    }
   ],
   "source": [
    "linked_pheno_map"
   ]
  },
  {
   "cell_type": "code",
   "execution_count": null,
   "id": "c5826c8f-0c9a-4374-8c9d-b0920f750b6b",
   "metadata": {},
   "outputs": [],
   "source": []
  },
  {
   "cell_type": "code",
   "execution_count": null,
   "id": "454c1284-7f62-4527-88ba-5fac5da3b398",
   "metadata": {},
   "outputs": [],
   "source": []
  },
  {
   "cell_type": "code",
   "execution_count": null,
   "id": "24c3122e-c046-496c-a802-063b0ba3a8d0",
   "metadata": {},
   "outputs": [],
   "source": []
  }
 ],
 "metadata": {
  "kernelspec": {
   "display_name": "Python 3 (ipykernel)",
   "language": "python",
   "name": "python3"
  },
  "language_info": {
   "codemirror_mode": {
    "name": "ipython",
    "version": 3
   },
   "file_extension": ".py",
   "mimetype": "text/x-python",
   "name": "python",
   "nbconvert_exporter": "python",
   "pygments_lexer": "ipython3",
   "version": "3.12.2"
  }
 },
 "nbformat": 4,
 "nbformat_minor": 5
}
