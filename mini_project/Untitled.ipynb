{
 "cells": [
  {
   "cell_type": "markdown",
   "id": "a6130571-e832-4131-a098-f3145f7276fd",
   "metadata": {},
   "source": [
    "# 🧬 Genetic Trait Inheritance Estimator\n",
    "This notebook estimates the likelihood of inheriting parent traits using phenotype-gene associations, genetic linkage, and user-reported traits — no DNA testing required.\n",
    "\n",
    "# Updated to compare Parent and Child answers"
   ]
  },
  {
   "cell_type": "markdown",
   "id": "c03afb80-ac65-4ed1-8649-5f2550ea3d12",
   "metadata": {},
   "source": [
    "## 🔹 Step 1: Enter a Parent Trait\n",
    "This is a trait your parent has, like `freckles`, `lactose intolerance`, or a known condition.\n",
    "We'll use it to look up genes associated with the trait.\n"
   ]
  },
  {
   "cell_type": "code",
   "execution_count": 17,
   "id": "fa6529ad-8b3c-4cf9-98aa-7f47d64c19c5",
   "metadata": {},
   "outputs": [],
   "source": [
    "import requests\n",
    "import json\n",
    "import emoji\n",
    "from collections import defaultdict\n",
    "\n",
    "\n",
    "ENSEMBL_API = \"https://rest.ensembl.org\"\n",
    "SPECIES = \"homo_sapiens\""
   ]
  },
  {
   "cell_type": "code",
   "execution_count": 18,
   "id": "aac4c7cf-90cf-4d61-9a08-f8b25c751803",
   "metadata": {},
   "outputs": [],
   "source": [
    "def get_associated_genes(phenotype):\n",
    "    url = f\"{ENSEMBL_API}/phenotype/term/{SPECIES}/{phenotype}?content-type=application/json\"\n",
    "    response = requests.get(url)\n",
    "    if response.status_code != 200:\n",
    "        return set(), []\n",
    "    data = response.json()\n",
    "    genes = set()\n",
    "    for entry in data:\n",
    "        if \"attributes\" in entry and \"associated_gene\" in entry[\"attributes\"]:\n",
    "            genes.update(g.strip() for g in entry[\"attributes\"][\"associated_gene\"].split(\",\"))\n",
    "    return genes, data"
   ]
  },
  {
   "cell_type": "markdown",
   "id": "06e921c2-715c-410f-bc7c-17e234e74482",
   "metadata": {},
   "source": [
    "## 🔹 Step 2: Find Genes Linked to the Trait Gene(s)\n",
    "We now expand the search to genes nearby (linked) to those associated with the original trait.\n"
   ]
  },
  {
   "cell_type": "code",
   "execution_count": 19,
   "id": "175f1fd3-c59f-48dc-af84-87fb93edced3",
   "metadata": {},
   "outputs": [],
   "source": [
    "# Get genes nearby a target gene\n",
    "\n",
    "def get_linked_traits(genes):\n",
    "    traits = defaultdict(set)\n",
    "    for gene in genes:\n",
    "        url = f\"{ENSEMBL_API}/phenotype/gene/{SPECIES}/{gene}?content-type=application/json\"\n",
    "        r = requests.get(url)\n",
    "        if r.status_code != 200:\n",
    "            print(f\"⚠️ Could not locate {gene} in Ensembl\")\n",
    "            continue\n",
    "        gene_data = r.json()\n",
    "        for record in gene_data:\n",
    "            trait = record.get(\"description\")\n",
    "            if trait:\n",
    "                traits[trait].add(gene)\n",
    "    return traits"
   ]
  },
  {
   "cell_type": "markdown",
   "id": "7f6e54e1-8589-4859-bf27-08d91eb2c720",
   "metadata": {},
   "source": [
    "## 🔹 Step 3: Survey the User\n",
    "Ask if the user has any traits associated with the linked genes.\n"
   ]
  },
  {
   "cell_type": "code",
   "execution_count": 23,
   "id": "5d41992f-6c6b-4752-bdf3-d10802a76076",
   "metadata": {},
   "outputs": [],
   "source": [
    "def ask_trait_survey(trait_list, identity_label):\n",
    "    answers = {}\n",
    "    print(f\"\\n👤 {identity_label}, please answer the following (yes / no / unknown):\")\n",
    "    for trait in trait_list:\n",
    "        while True:\n",
    "            ans = input(f\"👉 {identity_label} — Do you have this trait? '{trait}'? \").strip().lower()\n",
    "            if ans in [\"yes\", \"no\", \"unknown\"]:\n",
    "                answers[trait] = ans\n",
    "                break\n",
    "            else:\n",
    "                print(\"❗Please answer with 'yes', 'no', or 'unknown'.\")\n",
    "    return answers\n",
    "\n",
    "\n",
    "def compare_traits(parent, child):\n",
    "    yes_yes = sum(1 for trait in parent if parent[trait] == 'yes' and child.get(trait) == 'yes')\n",
    "    no_no = sum(1 for trait in parent if parent[trait] == 'no' and child.get(trait) == 'no')\n",
    "    total = len(parent)\n",
    "    return yes_yes, no_no, total"
   ]
  },
  {
   "cell_type": "markdown",
   "id": "44dcf4f6-8bb3-453e-a29c-638cd62242ca",
   "metadata": {},
   "source": [
    "## 🔹 Step 5: Run It All Together\n",
    "This pulls everything together into a single run."
   ]
  },
  {
   "cell_type": "code",
   "execution_count": 24,
   "id": "f9935420-e68f-44b3-923a-d355195e2d16",
   "metadata": {},
   "outputs": [],
   "source": [
    "def main():\n",
    "    trait_input = input(\"👩‍👧 Enter a trait your parent has (e.g., 'freckles', 'lactose intolerance'): \").strip().lower()\n",
    "\n",
    "    # Step 1: Find genes\n",
    "    parent_genes, _ = get_associated_genes(trait_input)\n",
    "    print(f\"\\n🧬 Genes associated with '{trait_input}':\", \", \".join(sorted(parent_genes)))\n",
    "\n",
    "    # Step 2: Find linked traits\n",
    "    linked_traits = get_linked_traits(parent_genes)\n",
    "    trait_list = sorted(linked_traits.keys())[:30]  # limit for brevity\n",
    "    print(f\"\\n🔗 Found {len(trait_list)} linked traits.\")\n",
    "\n",
    "    # Step 3: Get parent and child answers\n",
    "    parent_answers = ask_trait_survey(trait_list, \"Parent\")\n",
    "    child_answers = ask_trait_survey(trait_list, \"You\")\n",
    "\n",
    "    # Step 4: Compare\n",
    "    yes_yes, no_no, total = compare_traits(parent_answers, child_answers)\n",
    "    print(f\"\\n🎯 Survey Complete!\")\n",
    "    print(f\"Shared expressed traits (yes-yes): {yes_yes}\")\n",
    "    print(f\"Shared non-traits (no-no): {no_no}\")\n",
    "    print(f\"Total traits compared: {total}\")"
   ]
  },
  {
   "cell_type": "code",
   "execution_count": 25,
   "id": "3e466594-5c1c-4010-b673-c03600ee6eb6",
   "metadata": {},
   "outputs": [
    {
     "name": "stdin",
     "output_type": "stream",
     "text": [
      "👩‍👧 Enter a trait your parent has (e.g., 'freckles', 'lactose intolerance'):  freckles\n"
     ]
    },
    {
     "name": "stdout",
     "output_type": "stream",
     "text": [
      "\n",
      "🧬 Genes associated with 'freckles': AKAP1, ASIP, BNC2, FANCA, HERC2, HSPA12A, IRF4, LOC105375983, LOC107984363, MC1R, MSI2, OCA2, PPARGC1B, RAB11FIP2, RP11-62F24.2, SEC5L1, SLC45A2, SPATA33, TYR\n",
      "⚠️ Could not locate LOC105375983 in Ensembl\n",
      "⚠️ Could not locate LOC107984363 in Ensembl\n",
      "⚠️ Could not locate AKAP1 in Ensembl\n",
      "\n",
      "🔗 Found 30 linked traits.\n",
      "\n",
      "👤 Parent, please answer the following (yes/no):\n"
     ]
    },
    {
     "name": "stdin",
     "output_type": "stream",
     "text": [
      "👉 Parent — Do you have this trait? 'ALBINISM, OCULOCUTANEOUS, TYPE IA'? (yes/no):  yes\n",
      "👉 Parent — Do you have this trait? 'ALBINISM, OCULOCUTANEOUS, TYPE IB'? (yes/no):  yes\n",
      "👉 Parent — Do you have this trait? 'ALBINISM, OCULOCUTANEOUS, TYPE II'? (yes/no):  yes\n",
      "👉 Parent — Do you have this trait? 'ALBINISM, OCULOCUTANEOUS, TYPE IV'? (yes/no):  yes\n",
      "👉 Parent — Do you have this trait? 'Acute lymphoblastic leukemia'? (yes/no):  yes\n",
      "👉 Parent — Do you have this trait? 'Acute myeloid leukemia'? (yes/no):  yes\n",
      "👉 Parent — Do you have this trait? 'Adenoid Cystic Breast Carcinoma'? (yes/no):  yes\n",
      "👉 Parent — Do you have this trait? 'Adrenal Gland Neuroblastoma'? (yes/no):  yes\n",
      "👉 Parent — Do you have this trait? 'Albinism oculo-cutaneous type 2'? (yes/no):  yes\n",
      "👉 Parent — Do you have this trait? 'Albinism oculocutaneous type 4'? (yes/no):  yes\n",
      "👉 Parent — Do you have this trait? 'Alveolar rhabdomyosarcoma'? (yes/no):  yes\n",
      "👉 Parent — Do you have this trait? 'Ampulla of Vater Carcinoma'? (yes/no):  yes\n",
      "👉 Parent — Do you have this trait? 'Anal Squamous Cell Carcinoma'? (yes/no):  yes\n",
      "👉 Parent — Do you have this trait? 'Anaplastic Malignant Meningioma'? (yes/no):  yes\n",
      "👉 Parent — Do you have this trait? 'Anaplastic astrocytoma'? (yes/no):  yes\n",
      "👉 Parent — Do you have this trait? 'Anaplastic oligodendroglioma'? (yes/no):  yes\n",
      "👉 Parent — Do you have this trait? 'Angelman syndrome due to maternal 15q11q13 deletion'? (yes/no):  yes\n",
      "👉 Parent — Do you have this trait? 'Appendix Goblet Cell Carcinoid'? (yes/no):  yes\n",
      "👉 Parent — Do you have this trait? 'Astrocytoma'? (yes/no):  yes\n",
      "👉 Parent — Do you have this trait? 'Atypical Meningioma'? (yes/no):  yes\n",
      "👉 Parent — Do you have this trait? 'Atypical endometrial hyperplasia'? (yes/no):  yes\n",
      "👉 Parent — Do you have this trait? 'B-cell acute lymphoblastic leukemia'? (yes/no):  yes\n",
      "👉 Parent — Do you have this trait? 'Bladder Small Cell Neuroendocrine Carcinoma'? (yes/no):  yes\n",
      "👉 Parent — Do you have this trait? 'Breast Carcinoma by Gene Expression Profile'? (yes/no):  yes\n",
      "👉 Parent — Do you have this trait? 'Breast carcinoma'? (yes/no):  yes\n",
      "👉 Parent — Do you have this trait? 'Burkitts lymphoma'? (yes/no):  yes\n",
      "👉 Parent — Do you have this trait? 'Central Nervous System Lymphoma'? (yes/no):  yes\n",
      "👉 Parent — Do you have this trait? 'Cervical Adenosquamous Carcinoma'? (yes/no):  yes\n",
      "👉 Parent — Do you have this trait? 'Cervical Small Cell Carcinoma'? (yes/no):  yes\n",
      "👉 Parent — Do you have this trait? 'Chronic lymphocytic leukemia'? (yes/no):  yes\n"
     ]
    },
    {
     "name": "stdout",
     "output_type": "stream",
     "text": [
      "\n",
      "👤 You, please answer the following (yes/no):\n"
     ]
    },
    {
     "name": "stdin",
     "output_type": "stream",
     "text": [
      "👉 You — Do you have this trait? 'ALBINISM, OCULOCUTANEOUS, TYPE IA'? (yes/no):  yes\n",
      "👉 You — Do you have this trait? 'ALBINISM, OCULOCUTANEOUS, TYPE IB'? (yes/no):  yes\n",
      "👉 You — Do you have this trait? 'ALBINISM, OCULOCUTANEOUS, TYPE II'? (yes/no):  yes\n",
      "👉 You — Do you have this trait? 'ALBINISM, OCULOCUTANEOUS, TYPE IV'? (yes/no):  yes\n",
      "👉 You — Do you have this trait? 'Acute lymphoblastic leukemia'? (yes/no):  yes\n",
      "👉 You — Do you have this trait? 'Acute myeloid leukemia'? (yes/no):  yes\n",
      "👉 You — Do you have this trait? 'Adenoid Cystic Breast Carcinoma'? (yes/no):  yes\n",
      "👉 You — Do you have this trait? 'Adrenal Gland Neuroblastoma'? (yes/no):  yes\n",
      "👉 You — Do you have this trait? 'Albinism oculo-cutaneous type 2'? (yes/no):  yes\n",
      "👉 You — Do you have this trait? 'Albinism oculocutaneous type 4'? (yes/no):  yes\n",
      "👉 You — Do you have this trait? 'Alveolar rhabdomyosarcoma'? (yes/no):  yes\n",
      "👉 You — Do you have this trait? 'Ampulla of Vater Carcinoma'? (yes/no):  yes\n",
      "👉 You — Do you have this trait? 'Anal Squamous Cell Carcinoma'? (yes/no):  yes\n",
      "👉 You — Do you have this trait? 'Anaplastic Malignant Meningioma'? (yes/no):  yes\n",
      "👉 You — Do you have this trait? 'Anaplastic astrocytoma'? (yes/no):  yes\n",
      "👉 You — Do you have this trait? 'Anaplastic oligodendroglioma'? (yes/no):  yes\n",
      "👉 You — Do you have this trait? 'Angelman syndrome due to maternal 15q11q13 deletion'? (yes/no):  yes\n",
      "👉 You — Do you have this trait? 'Appendix Goblet Cell Carcinoid'? (yes/no):  yes\n",
      "👉 You — Do you have this trait? 'Astrocytoma'? (yes/no):  yes\n",
      "👉 You — Do you have this trait? 'Atypical Meningioma'? (yes/no):  \n",
      "👉 You — Do you have this trait? 'Atypical endometrial hyperplasia'? (yes/no):  \n",
      "👉 You — Do you have this trait? 'B-cell acute lymphoblastic leukemia'? (yes/no):  yes\n",
      "👉 You — Do you have this trait? 'Bladder Small Cell Neuroendocrine Carcinoma'? (yes/no):  yes\n",
      "👉 You — Do you have this trait? 'Breast Carcinoma by Gene Expression Profile'? (yes/no):  yes\n",
      "👉 You — Do you have this trait? 'Breast carcinoma'? (yes/no):  yes\n",
      "👉 You — Do you have this trait? 'Burkitts lymphoma'? (yes/no):  yes\n",
      "👉 You — Do you have this trait? 'Central Nervous System Lymphoma'? (yes/no):  yes\n",
      "👉 You — Do you have this trait? 'Cervical Adenosquamous Carcinoma'? (yes/no):  yes\n",
      "👉 You — Do you have this trait? 'Cervical Small Cell Carcinoma'? (yes/no):  yes\n",
      "👉 You — Do you have this trait? 'Chronic lymphocytic leukemia'? (yes/no):  yes\n"
     ]
    },
    {
     "name": "stdout",
     "output_type": "stream",
     "text": [
      "\n",
      "🎯 Survey Complete!\n",
      "Shared expressed traits (yes-yes): 28\n",
      "Shared non-traits (no-no): 0\n",
      "Total traits compared: 30\n"
     ]
    }
   ],
   "source": [
    "main()\n"
   ]
  },
  {
   "cell_type": "code",
   "execution_count": null,
   "id": "f4bbccb4-9ce5-49e1-99cb-7597345a0988",
   "metadata": {},
   "outputs": [],
   "source": []
  },
  {
   "cell_type": "code",
   "execution_count": null,
   "id": "927ed380-69b6-47f7-a962-2bc55ed2e404",
   "metadata": {},
   "outputs": [],
   "source": []
  }
 ],
 "metadata": {
  "kernelspec": {
   "display_name": "Python 3 (ipykernel)",
   "language": "python",
   "name": "python3"
  },
  "language_info": {
   "codemirror_mode": {
    "name": "ipython",
    "version": 3
   },
   "file_extension": ".py",
   "mimetype": "text/x-python",
   "name": "python",
   "nbconvert_exporter": "python",
   "pygments_lexer": "ipython3",
   "version": "3.12.2"
  }
 },
 "nbformat": 4,
 "nbformat_minor": 5
}
