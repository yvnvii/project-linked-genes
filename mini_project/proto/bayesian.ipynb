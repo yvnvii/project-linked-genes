{
 "cells": [
  {
   "cell_type": "code",
   "execution_count": 51,
   "id": "d49c34b4-5b57-4a35-8be3-08a6c689fa9b",
   "metadata": {},
   "outputs": [],
   "source": [
    "import sympy as sp"
   ]
  },
  {
   "cell_type": "markdown",
   "id": "e7eccec5-d969-49ff-a5a0-5c28c888b013",
   "metadata": {},
   "source": [
    "**P(S|T) = Chance you have the SNP if you have the trait**\n",
    "\n",
    "**P(T|S) = Chance you have the trait if you have the SNP**\n",
    "\n",
    "**P(S) = Frequency of SNP in the population**\n",
    "\n",
    "**P(T) = Frequency of the trait in the population**\n"
   ]
  },
  {
   "cell_type": "markdown",
   "id": "bbdb84b6-d866-45b6-a565-ecaba57e4f60",
   "metadata": {},
   "source": [
    "***P(S|T) is what we are looking for***\n",
    "\n",
    "P(S|T) = What is the probability someone has a certain SNP if we know they have the trait?"
   ]
  },
  {
   "cell_type": "markdown",
   "id": "036c0446-b938-42d0-b241-111c3b96f189",
   "metadata": {},
   "source": [
    "**Bayes Theorem**\n",
    "\n",
    "$P(S|T) = \\frac{P(T|S)P(S)}{P(T)}$"
   ]
  },
  {
   "cell_type": "markdown",
   "id": "5116e10c-5f19-46f9-88d1-32321d903c87",
   "metadata": {},
   "source": [
    "**What We Have**\n",
    "\n",
    "OR = Odds Ratio: how strongly SNP is linked to trait  \n",
    "P(S) = Risk Allele Frequency (RAF)  \n",
    "P(T) = How common the trait is in the population  "
   ]
  },
  {
   "cell_type": "code",
   "execution_count": 52,
   "id": "10ab2ccb-3e14-4eb0-8c73-f0733853d5ca",
   "metadata": {},
   "outputs": [],
   "source": [
    "w, OR, PS, PT = sp.symbols('w OR PS PT', real=True, positive=True)"
   ]
  },
  {
   "cell_type": "markdown",
   "id": "9c56f252-b5f4-4003-a9d3-cd34ac52ba98",
   "metadata": {},
   "source": [
    "**Step 1**\n",
    "Estimate P(T|S) from OR"
   ]
  },
  {
   "cell_type": "markdown",
   "id": "35053a3f-4458-4661-af2f-a8707a87fb3e",
   "metadata": {},
   "source": [
    "OR = (Odds of trait with SNP)/(Odds of trait without SNP)\n",
    "# = $\\frac{\\frac{P(T|S)}{P(\\overline{T}|S)}}{\\frac{P(T|\\overline{S})}{P(\\overline{T}|\\overline{S})}}$ #"
   ]
  },
  {
   "cell_type": "markdown",
   "id": "c5a785c9-5a20-4a5b-950c-5288eda583f1",
   "metadata": {},
   "source": [
    "Using conditional probability formula:\n",
    "\n",
    "$P(T|S) = \\frac{P({T}\\cap{S})}{P(S)}$  \n",
    "$P(\\overline{T}|S) = \\frac{P(\\overline{T}\\cap{S})}{P(S)}$  \n",
    "$P(T|\\overline{S}) = \\frac{P({T}\\cap\\overline{S})}{P(\\overline{S})}$  \n",
    "$P(\\overline{T}|\\overline{S}) = \\frac{P(\\overline{T}\\cap\\overline{S})}{P(\\overline{S})}$  "
   ]
  },
  {
   "cell_type": "markdown",
   "id": "48477bc0-6553-4d7a-9249-84867c5531cb",
   "metadata": {},
   "source": [
    "Plugging them into OR gives:\n",
    "\n",
    "$\\frac{P({T}\\cap{S})P(\\overline{T}\\cap\\overline{S})}{P(\\overline{T}\\cap{S})P(T\\cap\\overline{S})}$"
   ]
  },
  {
   "cell_type": "markdown",
   "id": "c9fe6655-6211-4036-9101-d3eb47261507",
   "metadata": {},
   "source": [
    "Let w,x,y,z be following:\n",
    "\n",
    "$w = P({T}\\cap{S})$   \n",
    "$x = P(\\overline{T}\\cap{S})$  \n",
    "$y = P(T\\cap\\overline{S})$  \n",
    "$z = P(\\overline{T}\\cap\\overline{S})$  "
   ]
  },
  {
   "cell_type": "markdown",
   "id": "84ad78b0-c838-4397-81dd-71a6e6a882a2",
   "metadata": {},
   "source": [
    "Then, $OR = \\frac{wz}{xy}$"
   ]
  },
  {
   "cell_type": "markdown",
   "id": "da130ca9-9b22-447f-ae2e-0c367c1646b7",
   "metadata": {},
   "source": [
    "Also,   \n",
    "w + x = P(S)  \n",
    "y + z = 1 - P(S)  \n",
    "w + y = P(T)  \n",
    "x + z = 1 - P(T)  "
   ]
  },
  {
   "cell_type": "markdown",
   "id": "a9452775-9116-4f17-a7ca-4e84fde8f72e",
   "metadata": {},
   "source": [
    "Thus,  \n",
    "x = P(S) - w  \n",
    "y = P(T) - w  \n",
    "z = 1 - P(S) - P(T) + w"
   ]
  },
  {
   "cell_type": "markdown",
   "id": "b8bb2947-5a47-47a9-aebf-bdc373a6e549",
   "metadata": {},
   "source": [
    "Plugging them into OR gives:\n",
    "$OR = \\frac{wz}{xy}$\n",
    "   $= \\frac{w(1-P(S)-P(T)+w)}{(P(S)-w)(P(T)-w)}$"
   ]
  },
  {
   "cell_type": "markdown",
   "id": "39a20e9a-76e9-49bf-bf88-17efc6736df2",
   "metadata": {},
   "source": [
    "Solve it for w using the formula, and calculate $P(T|S) = \\frac{(T\\cap{S})}{P(S)} = \\frac{w}{P(S)}$"
   ]
  },
  {
   "cell_type": "code",
   "execution_count": 53,
   "id": "2052407e-2521-49b3-8156-2d66b373989a",
   "metadata": {},
   "outputs": [],
   "source": [
    "def p_trait_given_snp(OR_val, PS_val, PT_val):\n",
    "    # define symbols\n",
    "    w = sp.Symbol('w', real = True)\n",
    "    PS = sp.Symbol('PS', real = True)\n",
    "    PT = sp.Symbol('PT', real = True)\n",
    "    OR = sp.Symbol('OR', real = True)\n",
    "\n",
    "    # define equation\n",
    "    expr = sp.Eq(OR, (w * (1 - PS - PT + w)) / ((PS - w) * (PT - w)))\n",
    "\n",
    "    # solve for w\n",
    "    solutions = sp.solve(expr, w)\n",
    "\n",
    "    # substitute numbers\n",
    "    numeric_solutions = [sol.evalf(subs={OR: OR_val, PS: PS_val, PT: PT_val}) for sol in solutions]\n",
    "\n",
    "    valid_sol = []\n",
    "    # filter solutions\n",
    "    for sol in numeric_solutions:\n",
    "        if sol.is_real and 0<= sol <= min(PS_val, PT_val):\n",
    "            p_trait_given_snp = float(sol)/PS_val\n",
    "            valid_sol.append(round(p_trait_given_snp,6))\n",
    "    return valid_sol"
   ]
  },
  {
   "cell_type": "code",
   "execution_count": 54,
   "id": "9c6071f2-3c17-4c5d-bcec-7e14f5f2a526",
   "metadata": {},
   "outputs": [
    {
     "data": {
      "text/plain": [
       "[0.005337]"
      ]
     },
     "execution_count": 54,
     "metadata": {},
     "output_type": "execute_result"
    }
   ],
   "source": [
    "p_trait_given_snp(0.8,0.5,0.006)"
   ]
  },
  {
   "cell_type": "markdown",
   "id": "dac4dbad-49e6-444d-8181-c7b174c11075",
   "metadata": {},
   "source": [
    "Now you have P(T|S).\n",
    "\n",
    "Plug everying into this equation:\n",
    "$P(S|T) = \\frac{P(T|S)P(S)}{P(T)}$"
   ]
  },
  {
   "cell_type": "code",
   "execution_count": 2,
   "id": "79b17c9f-9f4e-44dc-a7d0-24c4b592fd7c",
   "metadata": {},
   "outputs": [],
   "source": [
    "def p_snp_given_trait(p_trait_given_snp, PS, PT):\n",
    "    if PT == 0:\n",
    "        return None  # Avoid division by zero\n",
    "    result = (p_trait_given_snp * PS) / PT\n",
    "    return round(result, 6)\n"
   ]
  },
  {
   "cell_type": "code",
   "execution_count": 3,
   "id": "00dcf167-5256-4f08-8f1b-4b66bd493607",
   "metadata": {},
   "outputs": [
    {
     "data": {
      "text/plain": [
       "0.008539"
      ]
     },
     "execution_count": 3,
     "metadata": {},
     "output_type": "execute_result"
    }
   ],
   "source": [
    "p_snp_given_trait(0.005337, 0.8, 0.5)"
   ]
  },
  {
   "cell_type": "code",
   "execution_count": null,
   "id": "7f6cce42-b22c-4d6d-9659-c9768105c658",
   "metadata": {},
   "outputs": [],
   "source": []
  },
  {
   "cell_type": "code",
   "execution_count": null,
   "id": "cd4bb0f0-a3f0-43ae-92d3-071e8f4d28b9",
   "metadata": {},
   "outputs": [],
   "source": []
  },
  {
   "cell_type": "code",
   "execution_count": null,
   "id": "e1801488-51e4-497c-9cf8-9c17d12b79cd",
   "metadata": {},
   "outputs": [],
   "source": []
  },
  {
   "cell_type": "code",
   "execution_count": null,
   "id": "83926694-fb8b-4310-bd44-8f4a5a204257",
   "metadata": {},
   "outputs": [],
   "source": []
  },
  {
   "cell_type": "code",
   "execution_count": null,
   "id": "ebf05c61-e220-43d5-9d52-7a079bfab8c2",
   "metadata": {},
   "outputs": [],
   "source": []
  }
 ],
 "metadata": {
  "kernelspec": {
   "display_name": "Python 3 (ipykernel)",
   "language": "python",
   "name": "python3"
  },
  "language_info": {
   "codemirror_mode": {
    "name": "ipython",
    "version": 3
   },
   "file_extension": ".py",
   "mimetype": "text/x-python",
   "name": "python",
   "nbconvert_exporter": "python",
   "pygments_lexer": "ipython3",
   "version": "3.12.2"
  }
 },
 "nbformat": 4,
 "nbformat_minor": 5
}
